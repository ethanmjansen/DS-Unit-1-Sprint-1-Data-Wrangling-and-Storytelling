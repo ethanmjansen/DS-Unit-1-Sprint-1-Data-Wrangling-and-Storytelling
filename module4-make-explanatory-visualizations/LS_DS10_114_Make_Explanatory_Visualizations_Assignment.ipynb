{
  "nbformat": 4,
  "nbformat_minor": 0,
  "metadata": {
    "colab": {
      "name": "LS_DS10_114_Make_Explanatory_Visualizations_Assignment.ipynb",
      "provenance": [],
      "collapsed_sections": [],
      "include_colab_link": true
    },
    "language_info": {
      "codemirror_mode": {
        "name": "ipython",
        "version": 3
      },
      "file_extension": ".py",
      "mimetype": "text/x-python",
      "name": "python",
      "nbconvert_exporter": "python",
      "pygments_lexer": "ipython3",
      "version": "3.7.1"
    },
    "kernelspec": {
      "display_name": "Python 3",
      "language": "python",
      "name": "python3"
    }
  },
  "cells": [
    {
      "cell_type": "markdown",
      "metadata": {
        "id": "view-in-github",
        "colab_type": "text"
      },
      "source": [
        "<a href=\"https://colab.research.google.com/github/ethanmjansen/DS-Unit-1-Sprint-1-Data-Wrangling-and-Storytelling/blob/master/module4-make-explanatory-visualizations/LS_DS10_114_Make_Explanatory_Visualizations_Assignment.ipynb\" target=\"_parent\"><img src=\"https://colab.research.google.com/assets/colab-badge.svg\" alt=\"Open In Colab\"/></a>"
      ]
    },
    {
      "cell_type": "markdown",
      "metadata": {
        "colab_type": "text",
        "id": "NMEswXWh9mqw"
      },
      "source": [
        "Lambda School Data Science\n",
        "\n",
        "*Unit 1, Sprint 1, Module 4*\n",
        "\n",
        "---\n",
        "\n",
        "# ASSIGNMENT\n",
        "\n",
        "### 1) Replicate the lesson code. I recommend that you [do not copy-paste](https://docs.google.com/document/d/1ubOw9B3Hfip27hF2ZFnW3a3z9xAgrUDRReOEo-FHCVs/edit).\n",
        "\n",
        "Get caught up to where we got our example in class and then try and take things further. How close to \"pixel perfect\" can you make the lecture graph?\n",
        "\n",
        "Once you have something that you're proud of, share your graph in the cohort channel and move on to the second exercise.\n",
        "\n",
        "### 2) Reproduce another example from [FiveThityEight's shared data repository](https://data.fivethirtyeight.com/).\n",
        "\n",
        "**WARNING**: There are a lot of very custom graphs and tables at the above link. I **highly** recommend not trying to reproduce any that look like a table of values or something really different from the graph types that we are already familiar with. Search through the posts until you find a graph type that you are more or less familiar with: histogram, bar chart, stacked bar chart, line chart, [seaborn relplot](https://seaborn.pydata.org/generated/seaborn.relplot.html), etc. Recreating some of the graphics that 538 uses would be a lot easier in Adobe photoshop/illustrator than with matplotlib. \n",
        "\n",
        "- If you put in some time to find a graph that looks \"easy\" to replicate you'll probably find that it's not as easy as you thought. \n",
        "\n",
        "- If you start with a graph that looks hard to replicate you'll probably run up against a brick wall and be disappointed with your afternoon.\n",
        "\n",
        "\n",
        "\n",
        "\n",
        "\n",
        "\n",
        "\n",
        "\n",
        "\n",
        "\n"
      ]
    },
    {
      "cell_type": "markdown",
      "metadata": {
        "id": "NIVgDR1-fh40",
        "colab_type": "text"
      },
      "source": [
        "1) 'An Inconvenient Sequal: Truth to Power' challenge "
      ]
    },
    {
      "cell_type": "code",
      "metadata": {
        "id": "7SY1ZHawyZvz",
        "colab_type": "code",
        "colab": {
          "base_uri": "https://localhost:8080/",
          "height": 355
        },
        "outputId": "414c9382-257c-4d9e-8276-3cf2a6700a98"
      },
      "source": [
        "# What I'm going for\n",
        "\n",
        "from IPython.display import display, Image\n",
        "\n",
        "url = 'https://fivethirtyeight.com/wp-content/uploads/2017/09/mehtahickey-inconvenient-0830-1.png'\n",
        "example = Image(url=url, width=400)\n",
        "\n",
        "display(example)"
      ],
      "execution_count": 10,
      "outputs": [
        {
          "output_type": "display_data",
          "data": {
            "text/html": [
              "<img src=\"https://fivethirtyeight.com/wp-content/uploads/2017/09/mehtahickey-inconvenient-0830-1.png\" width=\"400\"/>"
            ],
            "text/plain": [
              "<IPython.core.display.Image object>"
            ]
          },
          "metadata": {
            "tags": []
          }
        }
      ]
    },
    {
      "cell_type": "code",
      "metadata": {
        "id": "tH8TPsQvf7oS",
        "colab_type": "code",
        "colab": {
          "base_uri": "https://localhost:8080/",
          "height": 264
        },
        "outputId": "b99d259b-49bd-4326-c710-c7acfe3252ac"
      },
      "source": [
        "#My prototype to recreate the graph, I did evertyhing by hand except for \n",
        "#copying Ryan's 'fake' variable\n",
        "\n",
        "\n",
        "%matplotlib inline \n",
        "import matplotlib.pyplot as plt\n",
        "import numpy as np\n",
        "import pandas as pd\n",
        "\n",
        "\n",
        "\n",
        "fake = pd.Series([38, 3, 2, 1, 2, 4, 6, 5, 5, 33],\n",
        "                 index = range(1,11,1))\n",
        "\n",
        "fake.plot.bar(color='C1', width=0.9);"
      ],
      "execution_count": 11,
      "outputs": [
        {
          "output_type": "display_data",
          "data": {
            "image/png": "[encoded data removed]",
            "text/plain": [
              "<Figure size 432x288 with 1 Axes>"
            ]
          },
          "metadata": {
            "tags": []
          }
        }
      ]
    },
    {
      "cell_type": "code",
      "metadata": {
        "id": "wC6GqSnegYXq",
        "colab_type": "code",
        "colab": {
          "base_uri": "https://localhost:8080/",
          "height": 703
        },
        "outputId": "f47a9a7b-0195-4ce5-d65e-01b8042ee035"
      },
      "source": [
        "# Set stylesheet\n",
        "plt.style.use('fivethirtyeight')\n",
        "\n",
        "\n",
        "# figure axes syntax\n",
        "fig, ax = plt.subplots()\n",
        "\n",
        "# Make the figure background color white\n",
        "fig.patch.set(color = 'white')\n",
        "\n",
        "# Put bars on the axes\n",
        "fake.plot.bar(width = 0.9,\n",
        "              color = '#ED713A')\n",
        "\n",
        "# Set axes background color white\n",
        "ax.set(facecolor = 'white')\n",
        "\n",
        "# Set Title\n",
        "ax.set_title(\"'An Inconvenient Sequel: truth To Power' is divisive\",\n",
        "             fontsize = 12,\n",
        "             fontweight = 'bold',\n",
        "             x = .35,\n",
        "             y = 1.1) \n",
        "\n",
        "# Set plot ylabel\n",
        "ax.set_ylabel('Percent of total votes',\n",
        "              fontsize = 9,\n",
        "              fontweight = 'bold')\n",
        "\n",
        "# Set plot xlabel\n",
        "ax.set_xlabel('Rating',\n",
        "              fontsize = 9.5,\n",
        "              fontweight = 'bold',\n",
        "              x = 0.47)\n",
        "\n",
        "\n",
        "# Set subtitle\n",
        "ax.text(s='IMDb ratings for the film as of Aug. 29',\n",
        "        y=41.5,\n",
        "        x=-1.8,\n",
        "        fontsize=12)\n",
        "\n",
        "# Set y axis labels, tick marks and grid lines\n",
        "ax.set_yticklabels(['0', '10', '20', '30', '40%'],\n",
        "                   color = 'grey',\n",
        "                   fontsize = 9)\n",
        "ax.set_yticks(range(0,50,10))\n",
        "\n",
        "# Set x axis labels, tick marks and grid lines\n",
        "ax.set_xticklabels(range(1,11,1),\n",
        "                   color = 'grey',\n",
        "                   rotation = 0,\n",
        "                   fontsize = 9)\n",
        "\n",
        "#Get rid of the border\n",
        "ax.spines['right'].set_visible(False)\n",
        "ax.spines['top'].set_visible(False)\n",
        "ax.spines['bottom'].set_visible(False)\n",
        "ax.spines['left'].set_visible(False)\n",
        "\n",
        "print('The Original')\n",
        "display(example)\n",
        "\n",
        "print('My Graph')\n",
        "fig.show()\n",
        "\n"
      ],
      "execution_count": 12,
      "outputs": [
        {
          "output_type": "stream",
          "text": [
            "The Original\n"
          ],
          "name": "stdout"
        },
        {
          "output_type": "display_data",
          "data": {
            "text/html": [
              "<img src=\"https://fivethirtyeight.com/wp-content/uploads/2017/09/mehtahickey-inconvenient-0830-1.png\" width=\"400\"/>"
            ],
            "text/plain": [
              "<IPython.core.display.Image object>"
            ]
          },
          "metadata": {
            "tags": []
          }
        },
        {
          "output_type": "stream",
          "text": [
            "My Graph\n"
          ],
          "name": "stdout"
        },
        {
          "output_type": "display_data",
          "data": {
            "image/png": "[encoded data removed]",
            "text/plain": [
              "<Figure size 432x288 with 1 Axes>"
            ]
          },
          "metadata": {
            "tags": []
          }
        }
      ]
    },
    {
      "cell_type": "markdown",
      "metadata": {
        "id": "4jXpOtpJjp5h",
        "colab_type": "text"
      },
      "source": [
        "2)Reproducing another example from FiveThirtyEight"
      ]
    },
    {
      "cell_type": "code",
      "metadata": {
        "id": "9LhqdXQFjqS6",
        "colab_type": "code",
        "colab": {
          "base_uri": "https://localhost:8080/",
          "height": 295
        },
        "outputId": "947d32ea-3339-48d1-f24a-dccd992722a9"
      },
      "source": [
        "# What I'm going for\n",
        "\n",
        "url = 'https://fivethirtyeight.com/wp-content/uploads/2015/04/barry-jester-datalab-boomersdruguse-actual.png'\n",
        "example = Image(url=url, width=400)\n",
        "\n",
        "display(example)"
      ],
      "execution_count": 49,
      "outputs": [
        {
          "output_type": "display_data",
          "data": {
            "text/html": [
              "<img src=\"https://fivethirtyeight.com/wp-content/uploads/2015/04/barry-jester-datalab-boomersdruguse-actual.png\" width=\"400\"/>"
            ],
            "text/plain": [
              "<IPython.core.display.Image object>"
            ]
          },
          "metadata": {
            "tags": []
          }
        }
      ]
    },
    {
      "cell_type": "code",
      "metadata": {
        "id": "Ocmi_h8em6yb",
        "colab_type": "code",
        "colab": {
          "base_uri": "https://localhost:8080/",
          "height": 285
        },
        "outputId": "c0da84c2-78fb-40ed-a6c0-5ebcd1e53eb7"
      },
      "source": [
        "#My prototype tables\n",
        "\n",
        "\n",
        "fake = pd.Series([0.05, 0.15, 0.15, 0.23, 0.25,0.28, 0.36, 0.36, 0.87, 1.43, 2.52, 7.29],\n",
        "                 index = range(0,12,1))\n",
        "\n",
        "fake.plot.bar(color='C1', width=0.9);"
      ],
      "execution_count": 77,
      "outputs": [
        {
          "output_type": "display_data",
          "data": {
            "image/png": "[encoded data removed]",
            "text/plain": [
              "<Figure size 432x288 with 1 Axes>"
            ]
          },
          "metadata": {
            "tags": []
          }
        }
      ]
    },
    {
      "cell_type": "code",
      "metadata": {
        "id": "hoKZqWeup_FD",
        "colab_type": "code",
        "colab": {
          "base_uri": "https://localhost:8080/",
          "height": 610
        },
        "outputId": "4572756d-59e8-4b7c-85f2-b8bdb16b54be"
      },
      "source": [
        "# Set stylesheet\n",
        "plt.style.use('fivethirtyeight')\n",
        "\n",
        "# figure axes syntax\n",
        "fig, ax = plt.subplots()\n",
        "\n",
        "#Title\n",
        "ax.set_title('Percentage of Americans aged 50-64 who said in a 2012 survery',\n",
        "             fontsize = 11.5,\n",
        "             x = .25,\n",
        "             y = 1.07) \n",
        "\n",
        "# Set subtitle\n",
        "ax.text(s='that they had used the following during the past year',\n",
        "        y=12.1,\n",
        "        x=-1.89,\n",
        "        fontsize=11.5)\n",
        "\n",
        "# Make the figure background color white\n",
        "fig.patch.set(color = 'white')\n",
        "\n",
        "# Put bars on the axes\n",
        "fake.plot.barh(width = 0.8,\n",
        "              color = 'Red')\n",
        "\n",
        "# Set axes background color white\n",
        "ax.set(facecolor = 'white')\n",
        "\n",
        "#Get rid of the border\n",
        "ax.spines['right'].set_visible(False)\n",
        "ax.spines['top'].set_visible(False)\n",
        "ax.spines['bottom'].set_visible(False)\n",
        "ax.spines['left'].set_visible(False)\n",
        "\n",
        "#X labels\n",
        "ax.set_yticklabels(['Heroin',\n",
        "                    'Meth',\n",
        "                    'Inhalent',\n",
        "                    'Sedative',\n",
        "                    'Hallucinogen',\n",
        "                    'Stimulant',\n",
        "                    'OxyContin',\n",
        "                    'Crack',\n",
        "                    'Cocaine',\n",
        "                    'Tranquilizer',\n",
        "                    'Pain reliever',\n",
        "                    'Marijuana'],\n",
        "                   color = 'black',\n",
        "                   fontsize = 10)\n",
        "\n",
        "\n",
        "# Hide grid lines\n",
        "ax.grid(False)\n",
        "\n",
        "# Hide x ticks\n",
        "ax.set_xticks([])\n",
        "\n",
        "y = [0.05, 0.15, 0.15, 0.23, 0.25,0.28, 0.36, 0.36, 0.87, 1.43, 2.52, 7.29]\n",
        "\n",
        "for i, v in enumerate(y):\n",
        "    ax.text(v + .1, i - .2, str(v), color = 'black', fontsize = 8)\n",
        "\n",
        "print('The Original')\n",
        "display(example)\n",
        "\n",
        "print('My Graph')\n",
        "fig.show()"
      ],
      "execution_count": 144,
      "outputs": [
        {
          "output_type": "stream",
          "text": [
            "The Original\n"
          ],
          "name": "stdout"
        },
        {
          "output_type": "display_data",
          "data": {
            "text/html": [
              "<img src=\"https://fivethirtyeight.com/wp-content/uploads/2015/04/barry-jester-datalab-boomersdruguse-actual.png\" width=\"400\"/>"
            ],
            "text/plain": [
              "<IPython.core.display.Image object>"
            ]
          },
          "metadata": {
            "tags": []
          }
        },
        {
          "output_type": "stream",
          "text": [
            "My Graph\n"
          ],
          "name": "stdout"
        },
        {
          "output_type": "display_data",
          "data": {
            "image/png": "[encoded data removed]",
            "text/plain": [
              "<Figure size 432x288 with 1 Axes>"
            ]
          },
          "metadata": {
            "tags": []
          }
        }
      ]
    },
    {
      "cell_type": "markdown",
      "metadata": {
        "id": "0wSrBzmJyWaV",
        "colab_type": "text"
      },
      "source": [
        "# STRETCH OPTIONS\n",
        "\n",
        "### 1) Reproduce one of the following using the matplotlib or seaborn libraries:\n",
        "\n",
        "- [thanksgiving-2015](https://fivethirtyeight.com/features/heres-what-your-part-of-america-eats-on-thanksgiving/) \n",
        "- [candy-power-ranking](https://fivethirtyeight.com/features/the-ultimate-halloween-candy-power-ranking/) \n",
        "- or another example of your choice!\n",
        "\n",
        "### 2) Make more charts!\n",
        "\n",
        "Choose a chart you want to make, from [Visual Vocabulary - Vega Edition](http://ft.com/vocabulary).\n",
        "\n",
        "Find the chart in an example gallery of a Python data visualization library:\n",
        "- [Seaborn](http://seaborn.pydata.org/examples/index.html)\n",
        "- [Altair](https://altair-viz.github.io/gallery/index.html)\n",
        "- [Matplotlib](https://matplotlib.org/gallery.html)\n",
        "- [Pandas](https://pandas.pydata.org/pandas-docs/stable/visualization.html)\n",
        "\n",
        "Reproduce the chart. [Optionally, try the \"Ben Franklin Method.\"](https://docs.google.com/document/d/1ubOw9B3Hfip27hF2ZFnW3a3z9xAgrUDRReOEo-FHCVs/edit) If you want, experiment and make changes.\n",
        "\n",
        "Take notes. Consider sharing your work with your cohort!"
      ]
    },
    {
      "cell_type": "code",
      "metadata": {
        "id": "dRJkKftiy5BJ",
        "colab_type": "code",
        "colab": {}
      },
      "source": [
        "# More Work Here"
      ],
      "execution_count": 0,
      "outputs": []
    }
  ]
}